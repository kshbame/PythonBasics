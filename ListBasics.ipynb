{
 "cells": [
  {
   "cell_type": "markdown",
   "metadata": {},
   "source": [
    "Basics of Python Lists.\n",
    "\n",
    "In this notebook we will explore some basics operations on Python lists. Such as list creation, iteration, adding items to list etc."
   ]
  },
  {
   "cell_type": "code",
   "execution_count": 87,
   "metadata": {},
   "outputs": [],
   "source": [
    "#Create a simple nested list called 'l'\n",
    "l = [[1,2,3,],[4,5,6],[7,8,9]]"
   ]
  },
  {
   "cell_type": "code",
   "execution_count": 88,
   "metadata": {},
   "outputs": [
    {
     "name": "stdout",
     "output_type": "stream",
     "text": [
      "item at index: 0 is: [1, 2, 3]\n",
      "item at index: 1 is: [4, 5, 6]\n",
      "item at index: 2 is: [7, 8, 9]\n"
     ]
    }
   ],
   "source": [
    "#Enumerate gives the index and value of the list.\n",
    "for e_out1, outerValue in enumerate(l):\n",
    "    print(\"item at index: \"+ str(e_out1) + \" is: \" + str(outerValue))"
   ]
  },
  {
   "cell_type": "code",
   "execution_count": 89,
   "metadata": {},
   "outputs": [
    {
     "data": {
      "text/plain": [
       "[[1, 2, 3], [4, 5, 6], [7, 8, 9], [10, 11, 12]]"
      ]
     },
     "execution_count": 89,
     "metadata": {},
     "output_type": "execute_result"
    }
   ],
   "source": [
    "#Append a list to an existing list.\n",
    "l.append([10,11,12])\n",
    "l"
   ]
  },
  {
   "cell_type": "code",
   "execution_count": 90,
   "metadata": {},
   "outputs": [
    {
     "name": "stdout",
     "output_type": "stream",
     "text": [
      "1\n",
      "2\n",
      "3\n",
      "4\n",
      "5\n",
      "6\n",
      "7\n",
      "8\n",
      "9\n",
      "10\n",
      "11\n",
      "12\n"
     ]
    }
   ],
   "source": [
    "#Iterate over main list.\n",
    "for i in l:\n",
    "    #Iterate over sub list.\n",
    "    for j in i:\n",
    "        #Print each item from sublist.\n",
    "        print(j)"
   ]
  },
  {
   "cell_type": "code",
   "execution_count": 91,
   "metadata": {},
   "outputs": [
    {
     "name": "stdout",
     "output_type": "stream",
     "text": [
      "4\n"
     ]
    }
   ],
   "source": [
    "#print the size of list\n",
    "print(len(l))"
   ]
  },
  {
   "cell_type": "code",
   "execution_count": 92,
   "metadata": {},
   "outputs": [
    {
     "name": "stdout",
     "output_type": "stream",
     "text": [
      "[[1, 2, 3], [4, 5, 6], [7, 8, 9], [10, 11, 12], 7]\n",
      "5\n"
     ]
    }
   ],
   "source": [
    "#add single item to the list.\n",
    "l.append(7)\n",
    "print(l)\n",
    "print(len(l))"
   ]
  },
  {
   "cell_type": "code",
   "execution_count": 93,
   "metadata": {},
   "outputs": [
    {
     "name": "stdout",
     "output_type": "stream",
     "text": [
      "6\n",
      "[99, [1, 2, 3], [4, 5, 6], [7, 8, 9], [10, 11, 12], 7]\n"
     ]
    }
   ],
   "source": [
    "#Insert an item into the list.\n",
    "l.insert(0, 99)\n",
    "print(len(l))\n",
    "print(l)"
   ]
  },
  {
   "cell_type": "code",
   "execution_count": 96,
   "metadata": {},
   "outputs": [
    {
     "name": "stdout",
     "output_type": "stream",
     "text": [
      "[7, 8, 9]\n",
      "3\n",
      "[99, [10, 11, 12], 7]\n"
     ]
    }
   ],
   "source": [
    "#Pop and item from the list by the provided index.\n",
    "print(l.pop(1))\n",
    "print(len(l))\n",
    "print(l)"
   ]
  },
  {
   "cell_type": "markdown",
   "metadata": {},
   "source": [
    "Slicing: Use list slicing to extract some elements from the list as needed."
   ]
  },
  {
   "cell_type": "code",
   "execution_count": 97,
   "metadata": {},
   "outputs": [
    {
     "data": {
      "text/plain": [
       "[1, 2, 3, 4, 5, 6, 7, 8, 9]"
      ]
     },
     "execution_count": 97,
     "metadata": {},
     "output_type": "execute_result"
    }
   ],
   "source": [
    "#Create a simple list to demonstrate the slicing operations.\n",
    "simpleList = [1,2,3,4,5,6,7,8,9]\n",
    "simpleList"
   ]
  },
  {
   "cell_type": "code",
   "execution_count": 99,
   "metadata": {},
   "outputs": [
    {
     "name": "stdout",
     "output_type": "stream",
     "text": [
      "[1, 2]\n",
      "[2, 3]\n"
     ]
    }
   ],
   "source": [
    "#Extract only 2 elements. Notice that in slicing operation \"from:till\" from starts at correct index and till ends one elemen less.\n",
    "print(simpleList[0:2])\n",
    "print(simpleList[1:3])"
   ]
  },
  {
   "cell_type": "code",
   "execution_count": 103,
   "metadata": {},
   "outputs": [
    {
     "name": "stdout",
     "output_type": "stream",
     "text": [
      "[8, 9]\n"
     ]
    }
   ],
   "source": [
    "#Extract last 2 elements.\n",
    "print(simpleList[-2:])"
   ]
  },
  {
   "cell_type": "code",
   "execution_count": 104,
   "metadata": {},
   "outputs": [
    {
     "name": "stdout",
     "output_type": "stream",
     "text": [
      "[8, 9]\n"
     ]
    }
   ],
   "source": [
    "#Specify only from index.\n",
    "print(simpleList[7:])"
   ]
  },
  {
   "cell_type": "code",
   "execution_count": 105,
   "metadata": {},
   "outputs": [
    {
     "name": "stdout",
     "output_type": "stream",
     "text": [
      "[1, 2, 3, 4, 5]\n"
     ]
    }
   ],
   "source": [
    "#Speicfy only till index.\n",
    "print(simpleList[:5])"
   ]
  },
  {
   "cell_type": "markdown",
   "metadata": {},
   "source": [
    "List comprehension"
   ]
  },
  {
   "cell_type": "code",
   "execution_count": 6,
   "metadata": {},
   "outputs": [
    {
     "data": {
      "text/plain": [
       "[0,\n",
       " 25,\n",
       " 100,\n",
       " 225,\n",
       " 400,\n",
       " 625,\n",
       " 900,\n",
       " 1225,\n",
       " 1600,\n",
       " 2025,\n",
       " 2500,\n",
       " 3025,\n",
       " 3600,\n",
       " 4225,\n",
       " 4900,\n",
       " 5625,\n",
       " 6400,\n",
       " 7225,\n",
       " 8100,\n",
       " 9025]"
      ]
     },
     "execution_count": 6,
     "metadata": {},
     "output_type": "execute_result"
    }
   ],
   "source": [
    "#Create a list with comprehension. Create a list of square of numbers that are less than 100 and divisible by 5.\n",
    "listComp = [x**2 for x in range(0,100) if x%5==0]\n",
    "listComp"
   ]
  },
  {
   "cell_type": "markdown",
   "metadata": {},
   "source": [
    "List Concatenation: Adding two different lists"
   ]
  },
  {
   "cell_type": "code",
   "execution_count": 21,
   "metadata": {},
   "outputs": [
    {
     "name": "stdout",
     "output_type": "stream",
     "text": [
      "list3 is: [1, 2, 3, 4, 'a', 'b', 'c']\n",
      "list5 is: [1, 2, 3, 4, 'a', 'b', 'c', [5, 6, 7], ['d', 'e', 'f']]\n"
     ]
    }
   ],
   "source": [
    "list1 = [1, 2, 3, 4]\n",
    "list2 = ['a', 'b', 'c']\n",
    "list3 = list1 + list2\n",
    "print(\"list3 is: %s\" % list3)\n",
    "list4 = [[5,6,7],['d','e','f']]\n",
    "list5 = list3 + list4\n",
    "print(\"list5 is: %s\" % list5)"
   ]
  },
  {
   "cell_type": "code",
   "execution_count": 28,
   "metadata": {},
   "outputs": [
    {
     "name": "stdout",
     "output_type": "stream",
     "text": [
      "[(0, 20, 40), (1, 21, 41), (2, 22, 42), (3, 23, 43), (4, 24, 44), (5, 25, 45), (6, 26, 46), (7, 27, 47), (8, 28, 48), (9, 29, 49), (10, 30, 50), (11, 31, 51), (12, 32, 52), (13, 33, 53), (14, 34, 54), (15, 35, 55), (16, 36, 56), (17, 37, 57), (18, 38, 58), (19, 39, 59), (20, 40, 60)]\n"
     ]
    }
   ],
   "source": [
    "#Zip the lists together\n",
    "listz1 = range(0,21)\n",
    "listz2 = range(20,41)\n",
    "listz3 = range(40,61)\n",
    "\n",
    "listz = list(zip(listz1, listz2, listz3))\n",
    "print(listz)"
   ]
  },
  {
   "cell_type": "code",
   "execution_count": null,
   "metadata": {},
   "outputs": [],
   "source": []
  }
 ],
 "metadata": {
  "kernelspec": {
   "display_name": "Python 3",
   "language": "python",
   "name": "python3"
  },
  "language_info": {
   "codemirror_mode": {
    "name": "ipython",
    "version": 3
   },
   "file_extension": ".py",
   "mimetype": "text/x-python",
   "name": "python",
   "nbconvert_exporter": "python",
   "pygments_lexer": "ipython3",
   "version": "3.6.5"
  }
 },
 "nbformat": 4,
 "nbformat_minor": 2
}
