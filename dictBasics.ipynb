{
 "cells": [
  {
   "cell_type": "markdown",
   "metadata": {},
   "source": [
    "Dictionary Tutorial.\n",
    "\n",
    "In this notebook we will explore some of the basic uses of dictionary."
   ]
  },
  {
   "cell_type": "code",
   "execution_count": 21,
   "metadata": {},
   "outputs": [
    {
     "data": {
      "text/plain": [
       "{'americas': {'usa': 'newyork', 'canada': 'toronto'},\n",
       " 'europe': {'germany': 'berlin', 'england': 'london'}}"
      ]
     },
     "execution_count": 21,
     "metadata": {},
     "output_type": "execute_result"
    }
   ],
   "source": [
    "#Create a simple dictionary of dictionaries\n",
    "dict1 = {\"americas\":{\"usa\": \"newyork\", \"canada\":\"toronto\"},\n",
    "         \"europe\": {\"germany\": \"berlin\", \"england\": \"london\"}}\n",
    "dict1"
   ]
  },
  {
   "cell_type": "code",
   "execution_count": 22,
   "metadata": {},
   "outputs": [
    {
     "name": "stdout",
     "output_type": "stream",
     "text": [
      "dict 1 keys are: americas\n",
      "dict 1 values are: {'usa': 'newyork', 'canada': 'toronto'}\n",
      "sub dict keys are: usa, values are: newyork\n",
      "sub dict keys are: canada, values are: toronto\n",
      "dict 1 keys are: europe\n",
      "dict 1 values are: {'germany': 'berlin', 'england': 'london'}\n",
      "sub dict keys are: germany, values are: berlin\n",
      "sub dict keys are: england, values are: london\n"
     ]
    }
   ],
   "source": [
    "#Iterate over dictionaries\n",
    "for k,v in dict1.items():\n",
    "    print(\"dict 1 keys are: %s\" % k)\n",
    "    print(\"dict 1 values are: %s\" % v)\n",
    "    for k_i, v_i in dict1[k].items():\n",
    "        print(\"sub dict keys are: %s, values are:\" % k_i, dict1[k][k_i])"
   ]
  },
  {
   "cell_type": "code",
   "execution_count": 23,
   "metadata": {},
   "outputs": [
    {
     "name": "stdout",
     "output_type": "stream",
     "text": [
      "americas\n",
      "europe\n"
     ]
    }
   ],
   "source": [
    "#Another way to iterate dictionaries only with the keys.\n",
    "for dict in dict1:\n",
    "    print(dict)"
   ]
  },
  {
   "cell_type": "code",
   "execution_count": 24,
   "metadata": {},
   "outputs": [
    {
     "name": "stdout",
     "output_type": "stream",
     "text": [
      "key is: usa, value is: newyork\n",
      "key is: canada, value is: toronto\n",
      "key is: germany, value is: berlin\n",
      "key is: england, value is: london\n"
     ]
    }
   ],
   "source": [
    "#Iterate with individual key, value pairs. Important is to know that iterating over dict1 returns keys(dict).\n",
    "for dict in dict1:\n",
    "    for k,v in dict1[dict].items():\n",
    "        print(\"key is: %s, value is: %s\" %(k, v))\n",
    "        "
   ]
  },
  {
   "cell_type": "code",
   "execution_count": 25,
   "metadata": {},
   "outputs": [
    {
     "data": {
      "text/plain": [
       "{'americas': {'usa': 'newyork', 'canada': 'toronto', 'chile': 'santiago'},\n",
       " 'europe': {'germany': 'berlin', 'england': 'london'}}"
      ]
     },
     "execution_count": 25,
     "metadata": {},
     "output_type": "execute_result"
    }
   ],
   "source": [
    "#Adding elements to dictionary.\n",
    "dict1['americas']['chile'] = 'santiago'\n",
    "dict1"
   ]
  },
  {
   "cell_type": "code",
   "execution_count": 26,
   "metadata": {},
   "outputs": [
    {
     "data": {
      "text/plain": [
       "{'americas': {'usa': 'newyork', 'canada': 'toronto', 'chile': 'santiago'},\n",
       " 'europe': {'germany': 'berlin', 'england': 'london'},\n",
       " 'asia': {'india': 'delhi'}}"
      ]
     },
     "execution_count": 26,
     "metadata": {},
     "output_type": "execute_result"
    }
   ],
   "source": [
    "#Adding element to dictionary.\n",
    "asia = {'asia': {'india':'delhi'}}\n",
    "dict1.update(asia)\n",
    "dict1"
   ]
  },
  {
   "cell_type": "code",
   "execution_count": 27,
   "metadata": {},
   "outputs": [
    {
     "name": "stdout",
     "output_type": "stream",
     "text": [
      "{'india': 'delhi'}\n",
      "london\n"
     ]
    }
   ],
   "source": [
    "#Methods\n",
    "print(dict1.get('asia'))\n",
    "print(dict1['europe'].get('england'))"
   ]
  },
  {
   "cell_type": "code",
   "execution_count": 30,
   "metadata": {},
   "outputs": [
    {
     "name": "stdout",
     "output_type": "stream",
     "text": [
      "dict_keys(['usa', 'canada', 'chile'])\n",
      "dict_values(['newyork', 'toronto', 'santiago'])\n",
      "dict_items([('usa', 'newyork'), ('canada', 'toronto'), ('chile', 'santiago')])\n"
     ]
    }
   ],
   "source": [
    "print(dict1['americas'].keys())\n",
    "print(dict1['americas'].values())\n",
    "print(dict1['americas'].items())"
   ]
  },
  {
   "cell_type": "code",
   "execution_count": 32,
   "metadata": {},
   "outputs": [
    {
     "name": "stdout",
     "output_type": "stream",
     "text": [
      "3\n",
      "1\n"
     ]
    }
   ],
   "source": [
    "print(len(dict1))\n",
    "print(len(dict1['asia']))"
   ]
  },
  {
   "cell_type": "code",
   "execution_count": 33,
   "metadata": {},
   "outputs": [
    {
     "ename": "AttributeError",
     "evalue": "'dict' object has no attribute 'sort'",
     "output_type": "error",
     "traceback": [
      "\u001b[1;31m---------------------------------------------------------------------------\u001b[0m",
      "\u001b[1;31mAttributeError\u001b[0m                            Traceback (most recent call last)",
      "\u001b[1;32m<ipython-input-33-c3c02978e1c5>\u001b[0m in \u001b[0;36m<module>\u001b[1;34m()\u001b[0m\n\u001b[1;32m----> 1\u001b[1;33m \u001b[0mdict1\u001b[0m\u001b[1;33m[\u001b[0m\u001b[1;34m'europe'\u001b[0m\u001b[1;33m]\u001b[0m\u001b[1;33m.\u001b[0m\u001b[0msort\u001b[0m\u001b[1;33m(\u001b[0m\u001b[1;33m)\u001b[0m\u001b[1;33m\u001b[0m\u001b[0m\n\u001b[0m\u001b[0;32m      2\u001b[0m \u001b[0mdict1\u001b[0m\u001b[1;33m\u001b[0m\u001b[0m\n",
      "\u001b[1;31mAttributeError\u001b[0m: 'dict' object has no attribute 'sort'"
     ]
    }
   ],
   "source": []
  },
  {
   "cell_type": "code",
   "execution_count": null,
   "metadata": {},
   "outputs": [],
   "source": []
  }
 ],
 "metadata": {
  "kernelspec": {
   "display_name": "Python 3",
   "language": "python",
   "name": "python3"
  },
  "language_info": {
   "codemirror_mode": {
    "name": "ipython",
    "version": 3
   },
   "file_extension": ".py",
   "mimetype": "text/x-python",
   "name": "python",
   "nbconvert_exporter": "python",
   "pygments_lexer": "ipython3",
   "version": "3.6.5"
  }
 },
 "nbformat": 4,
 "nbformat_minor": 2
}
